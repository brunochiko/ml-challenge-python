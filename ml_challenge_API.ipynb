{
  "nbformat": 4,
  "nbformat_minor": 0,
  "metadata": {
    "colab": {
      "provenance": []
    },
    "kernelspec": {
      "name": "python3",
      "display_name": "Python 3"
    },
    "language_info": {
      "name": "python"
    }
  },
  "cells": [
    {
      "cell_type": "markdown",
      "source": [
        "#Obtenção dos dados"
      ],
      "metadata": {
        "id": "f1oQqFacDO_H"
      }
    },
    {
      "cell_type": "markdown",
      "source": [
        "##Lendo a API 'search' e colocando o resultado em uma lista\n",
        "\n",
        "O código abaixo contém um loop que irá accessar a API várias vezes e buscar os produtos da lista 'termos' buscando 50 itens por vez até ter lido todos os items"
      ],
      "metadata": {
        "id": "rBN4P61nBhlk"
      }
    },
    {
      "cell_type": "code",
      "execution_count": 122,
      "metadata": {
        "id": "1KO3PvuTgQjD"
      },
      "outputs": [],
      "source": [
        "import pandas as pd\n",
        "import requests\n",
        "\n",
        "termos = ['chromecast','Apple%20TV', 'Amazon%20Fire%20TV']\n",
        "# cria o lista vazia para o resultado da busca\n",
        "produtos = []\n",
        "for x in termos:\n",
        "  # controle da paginação da API\n",
        "  offset=0\n",
        "  while True:\n",
        "    # Monta a URL da API\n",
        "    urlbusca = 'https://api.mercadolibre.com/sites/MLA/search?q='+x+'&limit=50&offset=' + str(offset)\n",
        "    #print(urlbusca)\n",
        "\n",
        "    # Envia o Request para o Endpoint\n",
        "    response = requests.get(urlbusca)\n",
        "\n",
        "    if response.status_code == 200:\n",
        "        # Obtem o json da resposta da API\n",
        "        data = response.json()\n",
        "        #print(data)\n",
        "\n",
        "        # Colocar o json do resultado em um dataframe do pandas\n",
        "        produtos.extend(data[\"results\"])\n",
        "    else:\n",
        "        # Caso retornou erro printa a mensagem\n",
        "        print('Error: {}'.format(response.status_code))\n",
        "\n",
        "    # Verifica se é a última página se sim sai do loop\n",
        "    if data['paging']['total'] <= offset + 50:\n",
        "        break\n",
        "    else:\n",
        "        offset += 50\n",
        "\n"
      ]
    },
    {
      "cell_type": "code",
      "source": [
        "len(produtos)"
      ],
      "metadata": {
        "colab": {
          "base_uri": "https://localhost:8080/"
        },
        "id": "P9DnnMSXGlhh",
        "outputId": "8c6cb2b4-6fcc-4771-adb8-e05ee9be6fa9"
      },
      "execution_count": 60,
      "outputs": [
        {
          "output_type": "execute_result",
          "data": {
            "text/plain": [
              "453"
            ]
          },
          "metadata": {},
          "execution_count": 60
        }
      ]
    },
    {
      "cell_type": "markdown",
      "source": [
        "##Acessando a API de Itens\n",
        "\n",
        "Utilizando a lista de itens criada na etapa anterior, o código abaixo itera sobre a lista e para cada item da lista irá acessar a api de itens e concatenar o resultado em uma lista. Após concluir a cconstrução da lista converte a lista de dicionários em um dataframe do pandas e exporta o dataframe em CSV"
      ],
      "metadata": {
        "id": "2_wB1qmHBwMH"
      }
    },
    {
      "cell_type": "code",
      "source": [
        "\n",
        "#iterar no dataframe da busca linha a linha\n",
        "items = []\n",
        "for item in produtos:\n",
        "  # Monta a URL de busca do item\n",
        "  urlitem = 'https://api.mercadolibre.com/items/'+ item['id']\n",
        "  #print(urlitem)\n",
        "\n",
        "  # Envia o Request para o Endpoint\n",
        "  response = requests.get(urlitem)\n",
        "  #print(response.json())\n",
        "  if response.status_code == 200:\n",
        "    items.append(response.json())\n",
        "\n",
        "  else:\n",
        "    # Caso retornou erro printa a mensagem\n",
        "    print('Error: {}'.format(response.status_code))\n",
        "df_item = pd.DataFrame(items)\n",
        "df_item.to_csv('items.csv')"
      ],
      "metadata": {
        "id": "AUHqXL3ZiGQm"
      },
      "execution_count": 121,
      "outputs": []
    },
    {
      "cell_type": "markdown",
      "source": [
        "#Análise\n",
        "\n",
        "Verificando a quantidade de linhas e os dados no dataframe"
      ],
      "metadata": {
        "id": "9axGPBOaC5q7"
      }
    },
    {
      "cell_type": "code",
      "source": [
        "#Verificar a quantidade de registros retornados\n",
        "df_item.shape[0]"
      ],
      "metadata": {
        "colab": {
          "base_uri": "https://localhost:8080/"
        },
        "id": "g78SlQ1hFkKg",
        "outputId": "b6e62836-7fef-415e-eafa-35d0875b2819"
      },
      "execution_count": 112,
      "outputs": [
        {
          "output_type": "execute_result",
          "data": {
            "text/plain": [
              "687"
            ]
          },
          "metadata": {},
          "execution_count": 112
        }
      ]
    },
    {
      "cell_type": "code",
      "source": [
        "#Verificar as primeiras linhas do dataframe\n",
        "df_item.head()"
      ],
      "metadata": {
        "id": "WGqTB1BOEO5F"
      },
      "execution_count": null,
      "outputs": []
    },
    {
      "cell_type": "markdown",
      "source": [
        "Calculando o preço máximo, mínimo e média dos produtos"
      ],
      "metadata": {
        "id": "1hKBCgB5Znc5"
      }
    },
    {
      "cell_type": "code",
      "source": [
        "df_item['price'].describe()"
      ],
      "metadata": {
        "colab": {
          "base_uri": "https://localhost:8080/"
        },
        "id": "ZbbYCPKGFhnJ",
        "outputId": "19add313-c99c-43c5-b63e-374e15aba468"
      },
      "execution_count": 116,
      "outputs": [
        {
          "output_type": "execute_result",
          "data": {
            "text/plain": [
              "count       687.000000\n",
              "mean     102964.445968\n",
              "std       77895.709609\n",
              "min        2500.000000\n",
              "25%       62622.000000\n",
              "50%       84999.000000\n",
              "75%      115998.500000\n",
              "max      799999.000000\n",
              "Name: price, dtype: float64"
            ]
          },
          "metadata": {},
          "execution_count": 116
        }
      ]
    },
    {
      "cell_type": "markdown",
      "source": [
        "Verificando quantos vendedores diferentes existem no momento"
      ],
      "metadata": {
        "id": "qoHv2FnVaNOG"
      }
    },
    {
      "cell_type": "code",
      "source": [
        "df_item.groupby('seller_id').seller_id.nunique().count()"
      ],
      "metadata": {
        "colab": {
          "base_uri": "https://localhost:8080/"
        },
        "id": "1eIkprdFZv6c",
        "outputId": "0fcdd880-b0b0-40af-9dcf-19d26bb75445"
      },
      "execution_count": 118,
      "outputs": [
        {
          "output_type": "execute_result",
          "data": {
            "text/plain": [
              "406"
            ]
          },
          "metadata": {},
          "execution_count": 118
        }
      ]
    },
    {
      "cell_type": "markdown",
      "source": [
        "Quantidade de anúncios diferentes e anúncio mais frequente"
      ],
      "metadata": {
        "id": "I79INHF-bD8e"
      }
    },
    {
      "cell_type": "code",
      "source": [
        "df_item['title'].describe()"
      ],
      "metadata": {
        "colab": {
          "base_uri": "https://localhost:8080/"
        },
        "id": "OTYsbwJGaWtu",
        "outputId": "fd18a26a-7259-436b-ac51-70ebc8131566"
      },
      "execution_count": 120,
      "outputs": [
        {
          "output_type": "execute_result",
          "data": {
            "text/plain": [
              "count                                                   687\n",
              "unique                                                  549\n",
              "top       Chromecast Google Tv Hd 8gb 2gb Ram 60 Fps Wif...\n",
              "freq                                                     14\n",
              "Name: title, dtype: object"
            ]
          },
          "metadata": {},
          "execution_count": 120
        }
      ]
    }
  ]
}